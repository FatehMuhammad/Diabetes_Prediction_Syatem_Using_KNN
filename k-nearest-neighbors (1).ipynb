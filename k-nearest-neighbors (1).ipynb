{
 "cells": [
  {
   "cell_type": "code",
   "execution_count": 1,
   "id": "63a3364f",
   "metadata": {
    "_cell_guid": "b1076dfc-b9ad-4769-8c92-a6c4dae69d19",
    "_uuid": "8f2839f25d086af736a60e9eeb907d3b93b6e0e5",
    "execution": {
     "iopub.execute_input": "2021-09-09T17:31:04.852957Z",
     "iopub.status.busy": "2021-09-09T17:31:04.852309Z",
     "iopub.status.idle": "2021-09-09T17:31:05.948116Z",
     "shell.execute_reply": "2021-09-09T17:31:05.948764Z",
     "shell.execute_reply.started": "2021-09-09T17:30:26.965726Z"
    },
    "papermill": {
     "duration": 1.127506,
     "end_time": "2021-09-09T17:31:05.949044",
     "exception": false,
     "start_time": "2021-09-09T17:31:04.821538",
     "status": "completed"
    },
    "tags": []
   },
   "outputs": [
    {
     "name": "stdout",
     "output_type": "stream",
     "text": [
      "/kaggle/input/diabetes/diabetes.csv\n"
     ]
    }
   ],
   "source": [
    "# This Python 3 environment comes with many helpful analytics libraries installed\n",
    "# It is defined by the kaggle/python Docker image: https://github.com/kaggle/docker-python\n",
    "# For example, here's several helpful packages to load\n",
    "\n",
    "import numpy as np # linear algebra\n",
    "import pandas as pd # data processing, CSV file I/O (e.g. pd.read_csv)\n",
    "import math\n",
    "from scipy.spatial import distance\n",
    "from sklearn.model_selection import train_test_split\n",
    "from sklearn.preprocessing import StandardScaler\n",
    "from sklearn.neighbors import KNeighborsClassifier\n",
    "from sklearn.metrics import confusion_matrix\n",
    "from sklearn.metrics import f1_score\n",
    "from sklearn.metrics import accuracy_score\n",
    "import seaborn as sns\n",
    "import matplotlib.pyplot as plt\n",
    "%matplotlib inline\n",
    "\n",
    "# Input data files are available in the read-only \"../input/\" directory\n",
    "# For example, running this (by clicking run or pressing Shift+Enter) will list all files under the input directory\n",
    "\n",
    "import os\n",
    "for dirname, _, filenames in os.walk('/kaggle/input'):\n",
    "    for filename in filenames:\n",
    "        print(os.path.join(dirname, filename))\n",
    "\n",
    "# You can write up to 20GB to the current directory (/kaggle/working/) that gets preserved as output when you create a version using \"Save & Run All\" \n",
    "# You can also write temporary files to /kaggle/temp/, but they won't be saved outside of the current session"
   ]
  },
  {
   "cell_type": "markdown",
   "id": "0aa9f6ef",
   "metadata": {
    "papermill": {
     "duration": 0.016984,
     "end_time": "2021-09-09T17:31:05.992552",
     "exception": false,
     "start_time": "2021-09-09T17:31:05.975568",
     "status": "completed"
    },
    "tags": []
   },
   "source": [
    "# Import DataSet named diabetes.csv available on kaggle"
   ]
  },
  {
   "cell_type": "code",
   "execution_count": 2,
   "id": "bfe461f4",
   "metadata": {
    "execution": {
     "iopub.execute_input": "2021-09-09T17:31:06.036625Z",
     "iopub.status.busy": "2021-09-09T17:31:06.036017Z",
     "iopub.status.idle": "2021-09-09T17:31:06.070956Z",
     "shell.execute_reply": "2021-09-09T17:31:06.071532Z",
     "shell.execute_reply.started": "2021-09-09T17:30:26.983212Z"
    },
    "papermill": {
     "duration": 0.06108,
     "end_time": "2021-09-09T17:31:06.071681",
     "exception": false,
     "start_time": "2021-09-09T17:31:06.010601",
     "status": "completed"
    },
    "tags": []
   },
   "outputs": [
    {
     "data": {
      "text/html": [
       "<div>\n",
       "<style scoped>\n",
       "    .dataframe tbody tr th:only-of-type {\n",
       "        vertical-align: middle;\n",
       "    }\n",
       "\n",
       "    .dataframe tbody tr th {\n",
       "        vertical-align: top;\n",
       "    }\n",
       "\n",
       "    .dataframe thead th {\n",
       "        text-align: right;\n",
       "    }\n",
       "</style>\n",
       "<table border=\"1\" class=\"dataframe\">\n",
       "  <thead>\n",
       "    <tr style=\"text-align: right;\">\n",
       "      <th></th>\n",
       "      <th>Pregnancies</th>\n",
       "      <th>Glucose</th>\n",
       "      <th>BloodPressure</th>\n",
       "      <th>SkinThickness</th>\n",
       "      <th>Insulin</th>\n",
       "      <th>BMI</th>\n",
       "      <th>Pedigree</th>\n",
       "      <th>Age</th>\n",
       "      <th>Outcome</th>\n",
       "    </tr>\n",
       "  </thead>\n",
       "  <tbody>\n",
       "    <tr>\n",
       "      <th>0</th>\n",
       "      <td>6</td>\n",
       "      <td>148</td>\n",
       "      <td>72</td>\n",
       "      <td>35</td>\n",
       "      <td>0</td>\n",
       "      <td>33.6</td>\n",
       "      <td>0.627</td>\n",
       "      <td>50</td>\n",
       "      <td>1</td>\n",
       "    </tr>\n",
       "    <tr>\n",
       "      <th>1</th>\n",
       "      <td>1</td>\n",
       "      <td>85</td>\n",
       "      <td>66</td>\n",
       "      <td>29</td>\n",
       "      <td>0</td>\n",
       "      <td>26.6</td>\n",
       "      <td>0.351</td>\n",
       "      <td>31</td>\n",
       "      <td>0</td>\n",
       "    </tr>\n",
       "    <tr>\n",
       "      <th>2</th>\n",
       "      <td>8</td>\n",
       "      <td>183</td>\n",
       "      <td>64</td>\n",
       "      <td>0</td>\n",
       "      <td>0</td>\n",
       "      <td>23.3</td>\n",
       "      <td>0.672</td>\n",
       "      <td>32</td>\n",
       "      <td>1</td>\n",
       "    </tr>\n",
       "    <tr>\n",
       "      <th>3</th>\n",
       "      <td>1</td>\n",
       "      <td>89</td>\n",
       "      <td>66</td>\n",
       "      <td>23</td>\n",
       "      <td>94</td>\n",
       "      <td>28.1</td>\n",
       "      <td>0.167</td>\n",
       "      <td>21</td>\n",
       "      <td>0</td>\n",
       "    </tr>\n",
       "    <tr>\n",
       "      <th>4</th>\n",
       "      <td>0</td>\n",
       "      <td>137</td>\n",
       "      <td>40</td>\n",
       "      <td>35</td>\n",
       "      <td>168</td>\n",
       "      <td>43.1</td>\n",
       "      <td>2.288</td>\n",
       "      <td>33</td>\n",
       "      <td>1</td>\n",
       "    </tr>\n",
       "    <tr>\n",
       "      <th>5</th>\n",
       "      <td>5</td>\n",
       "      <td>116</td>\n",
       "      <td>74</td>\n",
       "      <td>0</td>\n",
       "      <td>0</td>\n",
       "      <td>25.6</td>\n",
       "      <td>0.201</td>\n",
       "      <td>30</td>\n",
       "      <td>0</td>\n",
       "    </tr>\n",
       "    <tr>\n",
       "      <th>6</th>\n",
       "      <td>3</td>\n",
       "      <td>78</td>\n",
       "      <td>50</td>\n",
       "      <td>32</td>\n",
       "      <td>88</td>\n",
       "      <td>31.0</td>\n",
       "      <td>0.248</td>\n",
       "      <td>26</td>\n",
       "      <td>1</td>\n",
       "    </tr>\n",
       "    <tr>\n",
       "      <th>7</th>\n",
       "      <td>10</td>\n",
       "      <td>115</td>\n",
       "      <td>0</td>\n",
       "      <td>0</td>\n",
       "      <td>0</td>\n",
       "      <td>35.3</td>\n",
       "      <td>0.134</td>\n",
       "      <td>29</td>\n",
       "      <td>0</td>\n",
       "    </tr>\n",
       "    <tr>\n",
       "      <th>8</th>\n",
       "      <td>2</td>\n",
       "      <td>197</td>\n",
       "      <td>70</td>\n",
       "      <td>45</td>\n",
       "      <td>543</td>\n",
       "      <td>30.5</td>\n",
       "      <td>0.158</td>\n",
       "      <td>53</td>\n",
       "      <td>1</td>\n",
       "    </tr>\n",
       "    <tr>\n",
       "      <th>9</th>\n",
       "      <td>8</td>\n",
       "      <td>125</td>\n",
       "      <td>96</td>\n",
       "      <td>0</td>\n",
       "      <td>0</td>\n",
       "      <td>0.0</td>\n",
       "      <td>0.232</td>\n",
       "      <td>54</td>\n",
       "      <td>1</td>\n",
       "    </tr>\n",
       "  </tbody>\n",
       "</table>\n",
       "</div>"
      ],
      "text/plain": [
       "   Pregnancies  Glucose  BloodPressure  SkinThickness  Insulin   BMI  \\\n",
       "0            6      148             72             35        0  33.6   \n",
       "1            1       85             66             29        0  26.6   \n",
       "2            8      183             64              0        0  23.3   \n",
       "3            1       89             66             23       94  28.1   \n",
       "4            0      137             40             35      168  43.1   \n",
       "5            5      116             74              0        0  25.6   \n",
       "6            3       78             50             32       88  31.0   \n",
       "7           10      115              0              0        0  35.3   \n",
       "8            2      197             70             45      543  30.5   \n",
       "9            8      125             96              0        0   0.0   \n",
       "\n",
       "   Pedigree  Age  Outcome  \n",
       "0     0.627   50        1  \n",
       "1     0.351   31        0  \n",
       "2     0.672   32        1  \n",
       "3     0.167   21        0  \n",
       "4     2.288   33        1  \n",
       "5     0.201   30        0  \n",
       "6     0.248   26        1  \n",
       "7     0.134   29        0  \n",
       "8     0.158   53        1  \n",
       "9     0.232   54        1  "
      ]
     },
     "execution_count": 2,
     "metadata": {},
     "output_type": "execute_result"
    }
   ],
   "source": [
    "DataSet = pd.DataFrame()\n",
    "DataSet = pd.read_csv(\"/kaggle/input/diabetes/diabetes.csv\")\n",
    "DataSet.head(10)"
   ]
  },
  {
   "cell_type": "markdown",
   "id": "2ed7b72c",
   "metadata": {
    "papermill": {
     "duration": 0.012245,
     "end_time": "2021-09-09T17:31:06.096409",
     "exception": false,
     "start_time": "2021-09-09T17:31:06.084164",
     "status": "completed"
    },
    "tags": []
   },
   "source": [
    "# Replace zeros with null values and then with mean of respective columns for these columns\n",
    "# [Glucose, BloodPressure, SkinThickness, Insulin, BMI]"
   ]
  },
  {
   "cell_type": "code",
   "execution_count": 3,
   "id": "a24f7ee5",
   "metadata": {
    "execution": {
     "iopub.execute_input": "2021-09-09T17:31:06.155620Z",
     "iopub.status.busy": "2021-09-09T17:31:06.144333Z",
     "iopub.status.idle": "2021-09-09T17:31:06.162089Z",
     "shell.execute_reply": "2021-09-09T17:31:06.162943Z",
     "shell.execute_reply.started": "2021-09-09T17:30:27.010399Z"
    },
    "papermill": {
     "duration": 0.054284,
     "end_time": "2021-09-09T17:31:06.163122",
     "exception": false,
     "start_time": "2021-09-09T17:31:06.108838",
     "status": "completed"
    },
    "tags": []
   },
   "outputs": [
    {
     "data": {
      "text/html": [
       "<div>\n",
       "<style scoped>\n",
       "    .dataframe tbody tr th:only-of-type {\n",
       "        vertical-align: middle;\n",
       "    }\n",
       "\n",
       "    .dataframe tbody tr th {\n",
       "        vertical-align: top;\n",
       "    }\n",
       "\n",
       "    .dataframe thead th {\n",
       "        text-align: right;\n",
       "    }\n",
       "</style>\n",
       "<table border=\"1\" class=\"dataframe\">\n",
       "  <thead>\n",
       "    <tr style=\"text-align: right;\">\n",
       "      <th></th>\n",
       "      <th>Pregnancies</th>\n",
       "      <th>Glucose</th>\n",
       "      <th>BloodPressure</th>\n",
       "      <th>SkinThickness</th>\n",
       "      <th>Insulin</th>\n",
       "      <th>BMI</th>\n",
       "      <th>Pedigree</th>\n",
       "      <th>Age</th>\n",
       "      <th>Outcome</th>\n",
       "    </tr>\n",
       "  </thead>\n",
       "  <tbody>\n",
       "    <tr>\n",
       "      <th>0</th>\n",
       "      <td>6</td>\n",
       "      <td>148.0</td>\n",
       "      <td>72.0</td>\n",
       "      <td>35.0</td>\n",
       "      <td>156.0</td>\n",
       "      <td>33.6</td>\n",
       "      <td>0.627</td>\n",
       "      <td>50</td>\n",
       "      <td>1</td>\n",
       "    </tr>\n",
       "    <tr>\n",
       "      <th>1</th>\n",
       "      <td>1</td>\n",
       "      <td>85.0</td>\n",
       "      <td>66.0</td>\n",
       "      <td>29.0</td>\n",
       "      <td>156.0</td>\n",
       "      <td>26.6</td>\n",
       "      <td>0.351</td>\n",
       "      <td>31</td>\n",
       "      <td>0</td>\n",
       "    </tr>\n",
       "    <tr>\n",
       "      <th>2</th>\n",
       "      <td>8</td>\n",
       "      <td>183.0</td>\n",
       "      <td>64.0</td>\n",
       "      <td>29.0</td>\n",
       "      <td>156.0</td>\n",
       "      <td>23.3</td>\n",
       "      <td>0.672</td>\n",
       "      <td>32</td>\n",
       "      <td>1</td>\n",
       "    </tr>\n",
       "    <tr>\n",
       "      <th>3</th>\n",
       "      <td>1</td>\n",
       "      <td>89.0</td>\n",
       "      <td>66.0</td>\n",
       "      <td>23.0</td>\n",
       "      <td>94.0</td>\n",
       "      <td>28.1</td>\n",
       "      <td>0.167</td>\n",
       "      <td>21</td>\n",
       "      <td>0</td>\n",
       "    </tr>\n",
       "    <tr>\n",
       "      <th>4</th>\n",
       "      <td>0</td>\n",
       "      <td>137.0</td>\n",
       "      <td>40.0</td>\n",
       "      <td>35.0</td>\n",
       "      <td>168.0</td>\n",
       "      <td>43.1</td>\n",
       "      <td>2.288</td>\n",
       "      <td>33</td>\n",
       "      <td>1</td>\n",
       "    </tr>\n",
       "    <tr>\n",
       "      <th>5</th>\n",
       "      <td>5</td>\n",
       "      <td>116.0</td>\n",
       "      <td>74.0</td>\n",
       "      <td>29.0</td>\n",
       "      <td>156.0</td>\n",
       "      <td>25.6</td>\n",
       "      <td>0.201</td>\n",
       "      <td>30</td>\n",
       "      <td>0</td>\n",
       "    </tr>\n",
       "    <tr>\n",
       "      <th>6</th>\n",
       "      <td>3</td>\n",
       "      <td>78.0</td>\n",
       "      <td>50.0</td>\n",
       "      <td>32.0</td>\n",
       "      <td>88.0</td>\n",
       "      <td>31.0</td>\n",
       "      <td>0.248</td>\n",
       "      <td>26</td>\n",
       "      <td>1</td>\n",
       "    </tr>\n",
       "    <tr>\n",
       "      <th>7</th>\n",
       "      <td>10</td>\n",
       "      <td>115.0</td>\n",
       "      <td>72.0</td>\n",
       "      <td>29.0</td>\n",
       "      <td>156.0</td>\n",
       "      <td>35.3</td>\n",
       "      <td>0.134</td>\n",
       "      <td>29</td>\n",
       "      <td>0</td>\n",
       "    </tr>\n",
       "    <tr>\n",
       "      <th>8</th>\n",
       "      <td>2</td>\n",
       "      <td>197.0</td>\n",
       "      <td>70.0</td>\n",
       "      <td>45.0</td>\n",
       "      <td>543.0</td>\n",
       "      <td>30.5</td>\n",
       "      <td>0.158</td>\n",
       "      <td>53</td>\n",
       "      <td>1</td>\n",
       "    </tr>\n",
       "    <tr>\n",
       "      <th>9</th>\n",
       "      <td>8</td>\n",
       "      <td>125.0</td>\n",
       "      <td>96.0</td>\n",
       "      <td>29.0</td>\n",
       "      <td>156.0</td>\n",
       "      <td>32.0</td>\n",
       "      <td>0.232</td>\n",
       "      <td>54</td>\n",
       "      <td>1</td>\n",
       "    </tr>\n",
       "  </tbody>\n",
       "</table>\n",
       "</div>"
      ],
      "text/plain": [
       "   Pregnancies  Glucose  BloodPressure  SkinThickness  Insulin   BMI  \\\n",
       "0            6    148.0           72.0           35.0    156.0  33.6   \n",
       "1            1     85.0           66.0           29.0    156.0  26.6   \n",
       "2            8    183.0           64.0           29.0    156.0  23.3   \n",
       "3            1     89.0           66.0           23.0     94.0  28.1   \n",
       "4            0    137.0           40.0           35.0    168.0  43.1   \n",
       "5            5    116.0           74.0           29.0    156.0  25.6   \n",
       "6            3     78.0           50.0           32.0     88.0  31.0   \n",
       "7           10    115.0           72.0           29.0    156.0  35.3   \n",
       "8            2    197.0           70.0           45.0    543.0  30.5   \n",
       "9            8    125.0           96.0           29.0    156.0  32.0   \n",
       "\n",
       "   Pedigree  Age  Outcome  \n",
       "0     0.627   50        1  \n",
       "1     0.351   31        0  \n",
       "2     0.672   32        1  \n",
       "3     0.167   21        0  \n",
       "4     2.288   33        1  \n",
       "5     0.201   30        0  \n",
       "6     0.248   26        1  \n",
       "7     0.134   29        0  \n",
       "8     0.158   53        1  \n",
       "9     0.232   54        1  "
      ]
     },
     "execution_count": 3,
     "metadata": {},
     "output_type": "execute_result"
    }
   ],
   "source": [
    "for column in DataSet.columns[1:-3]:\n",
    "    DataSet[column].replace(0,np.NaN, inplace=True)\n",
    "    DataSet[column].fillna(round(DataSet[column].mean(skipna=True)), inplace=True)\n",
    "DataSet.head(10)"
   ]
  },
  {
   "cell_type": "code",
   "execution_count": 4,
   "id": "9c697c97",
   "metadata": {
    "execution": {
     "iopub.execute_input": "2021-09-09T17:31:06.220904Z",
     "iopub.status.busy": "2021-09-09T17:31:06.220079Z",
     "iopub.status.idle": "2021-09-09T17:31:06.224604Z",
     "shell.execute_reply": "2021-09-09T17:31:06.225885Z",
     "shell.execute_reply.started": "2021-09-09T17:30:27.043324Z"
    },
    "papermill": {
     "duration": 0.03605,
     "end_time": "2021-09-09T17:31:06.226085",
     "exception": false,
     "start_time": "2021-09-09T17:31:06.190035",
     "status": "completed"
    },
    "tags": []
   },
   "outputs": [],
   "source": [
    "X = DataSet.iloc[:, :8]\n",
    "y = DataSet.iloc[:, 8:]"
   ]
  },
  {
   "cell_type": "markdown",
   "id": "f501c064",
   "metadata": {
    "papermill": {
     "duration": 0.014678,
     "end_time": "2021-09-09T17:31:06.265144",
     "exception": false,
     "start_time": "2021-09-09T17:31:06.250466",
     "status": "completed"
    },
    "tags": []
   },
   "source": [
    "# Split DataSet into Training and Testing"
   ]
  },
  {
   "cell_type": "code",
   "execution_count": 5,
   "id": "78ec329f",
   "metadata": {
    "execution": {
     "iopub.execute_input": "2021-09-09T17:31:06.295690Z",
     "iopub.status.busy": "2021-09-09T17:31:06.294870Z",
     "iopub.status.idle": "2021-09-09T17:31:06.299107Z",
     "shell.execute_reply": "2021-09-09T17:31:06.298720Z",
     "shell.execute_reply.started": "2021-09-09T17:30:27.052508Z"
    },
    "papermill": {
     "duration": 0.021358,
     "end_time": "2021-09-09T17:31:06.299227",
     "exception": false,
     "start_time": "2021-09-09T17:31:06.277869",
     "status": "completed"
    },
    "tags": []
   },
   "outputs": [],
   "source": [
    "# Split data into 20% for testing and 80% for training\n",
    "X_train, X_test, y_train, y_test = train_test_split(X,y,test_size=0.2,random_state=0)"
   ]
  },
  {
   "cell_type": "markdown",
   "id": "4e1c38a6",
   "metadata": {
    "papermill": {
     "duration": 0.012616,
     "end_time": "2021-09-09T17:31:06.324623",
     "exception": false,
     "start_time": "2021-09-09T17:31:06.312007",
     "status": "completed"
    },
    "tags": []
   },
   "source": [
    "# Find distance of data points in testing dataset with all points in training DataSet"
   ]
  },
  {
   "cell_type": "code",
   "execution_count": 6,
   "id": "28981fa8",
   "metadata": {
    "execution": {
     "iopub.execute_input": "2021-09-09T17:31:06.355360Z",
     "iopub.status.busy": "2021-09-09T17:31:06.354660Z",
     "iopub.status.idle": "2021-09-09T17:31:06.357572Z",
     "shell.execute_reply": "2021-09-09T17:31:06.357133Z",
     "shell.execute_reply.started": "2021-09-09T17:30:27.066329Z"
    },
    "papermill": {
     "duration": 0.020281,
     "end_time": "2021-09-09T17:31:06.357673",
     "exception": false,
     "start_time": "2021-09-09T17:31:06.337392",
     "status": "completed"
    },
    "tags": []
   },
   "outputs": [],
   "source": [
    "# Self explainatory: This function will find distance of data points in testing dataset with all points in training DataSet\n",
    "def distance_with_all_train_Points(X_train, X_test):\n",
    "    # find the distance with all the Training points\n",
    "    eculidean_distance = {}\n",
    "    for data_point in X_test.itertuples():\n",
    "        for point in X_train.itertuples():\n",
    "            eculidean_distance[tuple([list(data_point)[0],list(point)[0]])] = distance.euclidean(list(data_point)[1:], list(point)[1:])\n",
    "    return eculidean_distance"
   ]
  },
  {
   "cell_type": "markdown",
   "id": "29ec0a5b",
   "metadata": {
    "papermill": {
     "duration": 0.012491,
     "end_time": "2021-09-09T17:31:06.382996",
     "exception": false,
     "start_time": "2021-09-09T17:31:06.370505",
     "status": "completed"
    },
    "tags": []
   },
   "source": [
    "# This function will take the eculidean_distances and then sort them, for checking which data points are nearest neighbor to the point.  And then it will check the labels of k nearest neighbors, here we are using k=5. Depending on that lebels, this function will give labesls to all testing dataSet and return Output_labels."
   ]
  },
  {
   "cell_type": "code",
   "execution_count": 7,
   "id": "2e57df4f",
   "metadata": {
    "execution": {
     "iopub.execute_input": "2021-09-09T17:31:06.416363Z",
     "iopub.status.busy": "2021-09-09T17:31:06.415578Z",
     "iopub.status.idle": "2021-09-09T17:31:06.418211Z",
     "shell.execute_reply": "2021-09-09T17:31:06.417761Z",
     "shell.execute_reply.started": "2021-09-09T17:30:27.076928Z"
    },
    "papermill": {
     "duration": 0.022306,
     "end_time": "2021-09-09T17:31:06.418317",
     "exception": false,
     "start_time": "2021-09-09T17:31:06.396011",
     "status": "completed"
    },
    "tags": []
   },
   "outputs": [],
   "source": [
    "def k_nearest_neighbors(eculidean_distance, X_test, y, k):\n",
    "        \n",
    "        # Here i is just a counter. While, k is to indicate how muc neighbors we gonna consider. Here k_nearest neighbors are taken as k=5\n",
    "        # yes would be to check iff label is 1 (i.e diabaties=1), and if there isn't diabaties no would be incremented. We'll check it on\n",
    "        # nearest neighbors of a data point.\n",
    "        # Output_labels is to store the labels predicted based on the nearest neighbors.\n",
    "        all_neighbours = {}\n",
    "        Output_labels = []\n",
    "        for data_point in X_test.itertuples():\n",
    "            for key, value in eculidean_distance.items():\n",
    "                if key[0] == list(data_point)[0]:\n",
    "                    all_neighbours[key] = value\n",
    "                else:\n",
    "                    continue\n",
    "            i, yes, no = 0, 0, 0\n",
    "            for item in sorted(all_neighbours.items(), key = lambda x: x[1]):\n",
    "                if i < k:\n",
    "                    if(y.iloc[item[0][1]][\"Outcome\"] == 1):\n",
    "                        yes += 1\n",
    "                    else:\n",
    "                        no += 1\n",
    "                    i += 1\n",
    "        # Till this point, we know that how much nearest neighbours have label of one and label of 0 for having diabaties or not.\n",
    "        # On the basis of this we'll assign label to new data Point.\n",
    "            if(yes > no):\n",
    "                Output_labels.append(1)\n",
    "            else:\n",
    "                Output_labels.append(0)\n",
    "            all_neighbours.clear()\n",
    "            \n",
    "        return Output_labels"
   ]
  },
  {
   "cell_type": "markdown",
   "id": "1e05db41",
   "metadata": {
    "papermill": {
     "duration": 0.012611,
     "end_time": "2021-09-09T17:31:06.444228",
     "exception": false,
     "start_time": "2021-09-09T17:31:06.431617",
     "status": "completed"
    },
    "tags": []
   },
   "source": [
    "# Here we are just calling that functions to get labels of testing dataset"
   ]
  },
  {
   "cell_type": "code",
   "execution_count": 8,
   "id": "cdf56177",
   "metadata": {
    "execution": {
     "iopub.execute_input": "2021-09-09T17:31:06.610654Z",
     "iopub.status.busy": "2021-09-09T17:31:06.606094Z",
     "iopub.status.idle": "2021-09-09T17:31:14.433584Z",
     "shell.execute_reply": "2021-09-09T17:31:14.433096Z",
     "shell.execute_reply.started": "2021-09-09T17:30:27.088353Z"
    },
    "papermill": {
     "duration": 7.976029,
     "end_time": "2021-09-09T17:31:14.433715",
     "exception": false,
     "start_time": "2021-09-09T17:31:06.457686",
     "status": "completed"
    },
    "tags": []
   },
   "outputs": [],
   "source": [
    "eculidean_distance = distance_with_all_train_Points(X_train, X_test)\n",
    "Output_labels = k_nearest_neighbors(eculidean_distance, X_test, y, 5)"
   ]
  },
  {
   "cell_type": "markdown",
   "id": "a14b7823",
   "metadata": {
    "papermill": {
     "duration": 0.012959,
     "end_time": "2021-09-09T17:31:14.460260",
     "exception": false,
     "start_time": "2021-09-09T17:31:14.447301",
     "status": "completed"
    },
    "tags": []
   },
   "source": [
    "# Now, we are just using sckit learn library to use it's KNeighborsClassifier(). We'll train and then predict by using this model."
   ]
  },
  {
   "cell_type": "code",
   "execution_count": 9,
   "id": "ed67b200",
   "metadata": {
    "execution": {
     "iopub.execute_input": "2021-09-09T17:31:14.492613Z",
     "iopub.status.busy": "2021-09-09T17:31:14.491931Z",
     "iopub.status.idle": "2021-09-09T17:31:14.500931Z",
     "shell.execute_reply": "2021-09-09T17:31:14.500521Z",
     "shell.execute_reply.started": "2021-09-09T17:30:34.156992Z"
    },
    "papermill": {
     "duration": 0.027482,
     "end_time": "2021-09-09T17:31:14.501038",
     "exception": false,
     "start_time": "2021-09-09T17:31:14.473556",
     "status": "completed"
    },
    "tags": []
   },
   "outputs": [
    {
     "data": {
      "text/plain": [
       "KNeighborsClassifier()"
      ]
     },
     "execution_count": 9,
     "metadata": {},
     "output_type": "execute_result"
    }
   ],
   "source": [
    "neighbor = KNeighborsClassifier(n_neighbors=5)\n",
    "neighbor.fit(X_train, np.array(y_train).ravel())"
   ]
  },
  {
   "cell_type": "markdown",
   "id": "5791606d",
   "metadata": {
    "papermill": {
     "duration": 0.012982,
     "end_time": "2021-09-09T17:31:14.527072",
     "exception": false,
     "start_time": "2021-09-09T17:31:14.514090",
     "status": "completed"
    },
    "tags": []
   },
   "source": [
    "# Prediction using scikit learn model"
   ]
  },
  {
   "cell_type": "code",
   "execution_count": 10,
   "id": "83c19488",
   "metadata": {
    "execution": {
     "iopub.execute_input": "2021-09-09T17:31:14.558965Z",
     "iopub.status.busy": "2021-09-09T17:31:14.558226Z",
     "iopub.status.idle": "2021-09-09T17:31:14.569679Z",
     "shell.execute_reply": "2021-09-09T17:31:14.570100Z",
     "shell.execute_reply.started": "2021-09-09T17:30:34.170629Z"
    },
    "papermill": {
     "duration": 0.030214,
     "end_time": "2021-09-09T17:31:14.570248",
     "exception": false,
     "start_time": "2021-09-09T17:31:14.540034",
     "status": "completed"
    },
    "tags": []
   },
   "outputs": [
    {
     "data": {
      "text/plain": [
       "array([1, 0, 0, 1, 0, 0, 1, 1, 0, 0, 1, 1, 0, 0, 0, 0, 1, 0, 0, 0, 0, 0,\n",
       "       0, 0, 0, 0, 0, 1, 0, 0, 1, 0, 0, 1, 0, 1, 1, 0, 0, 1, 0, 0, 0, 1,\n",
       "       1, 0, 0, 0, 0, 0, 1, 0, 0, 0, 0, 0, 0, 0, 0, 0, 1, 0, 0, 1, 1, 1,\n",
       "       1, 1, 1, 0, 0, 0, 0, 1, 1, 0, 0, 1, 0, 0, 1, 0, 0, 0, 0, 0, 0, 0,\n",
       "       1, 0, 0, 0, 0, 0, 1, 0, 0, 0, 0, 1, 0, 0, 0, 0, 1, 1, 0, 1, 0, 1,\n",
       "       0, 0, 1, 0, 1, 1, 0, 1, 0, 1, 1, 0, 0, 0, 0, 0, 0, 0, 1, 1, 1, 0,\n",
       "       0, 1, 0, 0, 0, 0, 1, 0, 0, 1, 0, 0, 1, 0, 0, 0, 0, 0, 0, 0, 0, 0])"
      ]
     },
     "execution_count": 10,
     "metadata": {},
     "output_type": "execute_result"
    }
   ],
   "source": [
    "y_pred = neighbor.predict(X_test)\n",
    "y_pred"
   ]
  },
  {
   "cell_type": "markdown",
   "id": "caa1a2a9",
   "metadata": {
    "papermill": {
     "duration": 0.013502,
     "end_time": "2021-09-09T17:31:14.598667",
     "exception": false,
     "start_time": "2021-09-09T17:31:14.585165",
     "status": "completed"
    },
    "tags": []
   },
   "source": [
    "# As we have labels, which we have predicted by checking the k nearest neighbors above (Output_labels) which are real labels, and now we have got predictions by scikit learn. We'll compare both predicted and actual labels to get accuracy score."
   ]
  },
  {
   "cell_type": "code",
   "execution_count": 11,
   "id": "27dce54f",
   "metadata": {
    "execution": {
     "iopub.execute_input": "2021-09-09T17:31:14.631607Z",
     "iopub.status.busy": "2021-09-09T17:31:14.630848Z",
     "iopub.status.idle": "2021-09-09T17:31:14.642065Z",
     "shell.execute_reply": "2021-09-09T17:31:14.642490Z",
     "shell.execute_reply.started": "2021-09-09T17:30:34.191539Z"
    },
    "papermill": {
     "duration": 0.03051,
     "end_time": "2021-09-09T17:31:14.642620",
     "exception": false,
     "start_time": "2021-09-09T17:31:14.612110",
     "status": "completed"
    },
    "tags": []
   },
   "outputs": [
    {
     "data": {
      "text/plain": [
       "1.0"
      ]
     },
     "execution_count": 11,
     "metadata": {},
     "output_type": "execute_result"
    }
   ],
   "source": [
    "neighbor.score(X_test, Output_labels)"
   ]
  }
 ],
 "metadata": {
  "kernelspec": {
   "display_name": "Python 3",
   "language": "python",
   "name": "python3"
  },
  "language_info": {
   "codemirror_mode": {
    "name": "ipython",
    "version": 3
   },
   "file_extension": ".py",
   "mimetype": "text/x-python",
   "name": "python",
   "nbconvert_exporter": "python",
   "pygments_lexer": "ipython3",
   "version": "3.7.10"
  },
  "papermill": {
   "default_parameters": {},
   "duration": 17.016912,
   "end_time": "2021-09-09T17:31:15.264708",
   "environment_variables": {},
   "exception": null,
   "input_path": "__notebook__.ipynb",
   "output_path": "__notebook__.ipynb",
   "parameters": {},
   "start_time": "2021-09-09T17:30:58.247796",
   "version": "2.3.3"
  }
 },
 "nbformat": 4,
 "nbformat_minor": 5
}
